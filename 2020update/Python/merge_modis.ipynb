{
 "metadata": {
  "language_info": {
   "codemirror_mode": {
    "name": "ipython",
    "version": 3
   },
   "file_extension": ".py",
   "mimetype": "text/x-python",
   "name": "python",
   "nbconvert_exporter": "python",
   "pygments_lexer": "ipython3",
   "version": "3.9.1-final"
  },
  "orig_nbformat": 2,
  "kernelspec": {
   "name": "python3",
   "display_name": "Python 3.9.1 64-bit ('fires': conda)",
   "metadata": {
    "interpreter": {
     "hash": "a2179a16bd7c4824ddf3156e6c5b616743c37f42a49b1bb75af21bac13b6503e"
    }
   }
  }
 },
 "nbformat": 4,
 "nbformat_minor": 2,
 "cells": [
  {
   "cell_type": "code",
   "execution_count": null,
   "metadata": {},
   "outputs": [],
   "source": [
    "# Migrate data to S3 and use that instead of doing locally\n",
    "# https://www.sqlshack.com/getting-started-with-amazon-s3-and-python/"
   ]
  },
  {
   "cell_type": "code",
   "execution_count": 102,
   "metadata": {},
   "outputs": [],
   "source": [
    "from os import listdir\n",
    "from pandas import concat, read_csv\n",
    "from datetime import datetime as dt\n",
    "# from geopandas import GeoDataFrame, points_from_xy"
   ]
  },
  {
   "cell_type": "code",
   "execution_count": 76,
   "metadata": {},
   "outputs": [],
   "source": [
    "# Still need to put the MODIS data in a better location. Current path is not ideal.\n",
    "path = '../../../Fires/MODIS Archive'\n",
    "ext = '.csv'"
   ]
  },
  {
   "cell_type": "code",
   "execution_count": 89,
   "metadata": {},
   "outputs": [],
   "source": [
    "def timer(func):\n",
    "    def wrapper(*args, **kwargs):\n",
    "        start = dt.now()\n",
    "        print('Started: ', start)\n",
    "\n",
    "        result = func(*args, **kwargs)\n",
    "\n",
    "        end = dt.now()\n",
    "        print('Ended: ', end)\n",
    "        print('Total: ', end - start)\n",
    "        \n",
    "        return result\n",
    "\n",
    "    return wrapper"
   ]
  },
  {
   "cell_type": "code",
   "execution_count": 99,
   "metadata": {},
   "outputs": [],
   "source": [
    "@timer\n",
    "def combine_modis(path, confidence_level=80):\n",
    "    \"\"\"\n",
    "    This function creates a single csv from annual MODIS fire alerts downloaded from\n",
    "    FIRMS (https://firms.modaps.eosdis.nasa.gov/download/). The input is a file path\n",
    "    to the directory that contains the individual csv files and a confidence level\n",
    "    threshold (default = 80). The function will concatenate rows where the confidence\n",
    "    level is at or above the confidence level threshold. For example:\n",
    "\n",
    "    combine_modis(path='./mydir', confidence_level=80)\n",
    "\n",
    "    Returns a single csv with rows containing a confidence level greater than or\n",
    "    equal to 80.\n",
    "    \"\"\"\n",
    "    ext = '.csv'\n",
    "\n",
    "    files = [path + '/' + f for f in listdir(path) if f.endswith(ext)]\n",
    "\n",
    "    l = []\n",
    "\n",
    "    print('Reading files...')\n",
    "    for file in files:\n",
    "        print('-Reading ', file[29:])  # Find a better way to print file name\n",
    "        df = read_csv(file)\n",
    "        df = df.loc[df['confidence'] >= confidence_level]\n",
    "        l.append(df)\n",
    "\n",
    "    out = concat(l)\n",
    "    \n",
    "    print('Done.')\n",
    "\n",
    "    return out\n"
   ]
  },
  {
   "cell_type": "code",
   "execution_count": 80,
   "metadata": {},
   "outputs": [],
   "source": [
    "# # This one might actually be a little slower. Need to do more tests.\n",
    "# @timer\n",
    "# def combine_modis_alt(path, confidence_level=80):\n",
    "#     \"\"\"\n",
    "#     This function creates a single csv from annual MODIS fire alerts downloaded from\n",
    "#     FIRMS (https://firms.modaps.eosdis.nasa.gov/download/). The input is a file path\n",
    "#     to the directory that contains the individual csv files and a confidence level\n",
    "#     threshold (default = 80). The function will concatenate rows where the confidence\n",
    "#     level is at or above the confidence level threshold. For example:\n",
    "\n",
    "#     combine_modis(path='./mydir', confidence_level=80)\n",
    "\n",
    "#     Returns a single csv with rows containing a confidence level greater than or\n",
    "#     equal to 80.\n",
    "#     \"\"\"\n",
    "#     ext = '.csv'\n",
    "\n",
    "#     files = [path + '/' + f for f in listdir(path) if f.endswith(ext)]\n",
    "\n",
    "#     out = []\n",
    "\n",
    "#     for file in files:\n",
    "#         df = read_csv(file)\n",
    "#         df = df.loc[df['confidence'] >= confidence_level]\n",
    "#         out.append(df)\n",
    "\n",
    "#     return concat(out)\n"
   ]
  },
  {
   "cell_type": "code",
   "execution_count": 28,
   "metadata": {},
   "outputs": [],
   "source": [
    "# files = [path + '/' + f for f in listdir(path) if f.endswith(ext)]\n",
    "# files"
   ]
  },
  {
   "cell_type": "code",
   "execution_count": null,
   "metadata": {},
   "outputs": [],
   "source": [
    "# combined = concat([read_csv(f) for f in files])\n",
    "# final = combined.loc[combined['confidence']>=80]"
   ]
  },
  {
   "cell_type": "code",
   "execution_count": 91,
   "metadata": {},
   "outputs": [
    {
     "output_type": "stream",
     "name": "stdout",
     "text": [
      "Started:  2021-02-22 15:08:27.467307\n",
      "Ended:  2021-02-22 15:13:08.178320\n",
      "Total:  0:04:40.711013\n"
     ]
    }
   ],
   "source": [
    "combined = combine_modis(path=path, confidence_level=80)"
   ]
  },
  {
   "cell_type": "code",
   "execution_count": 92,
   "metadata": {},
   "outputs": [
    {
     "output_type": "execute_result",
     "data": {
      "text/plain": [
       "(26201510, 15)"
      ]
     },
     "metadata": {},
     "execution_count": 92
    }
   ],
   "source": [
    "combined.shape"
   ]
  },
  {
   "source": [
    "combined.to_csv('modis_alerts_2001_2020.csv')"
   ],
   "cell_type": "code",
   "metadata": {},
   "execution_count": 94,
   "outputs": []
  },
  {
   "cell_type": "code",
   "execution_count": 119,
   "metadata": {},
   "outputs": [],
   "source": [
    "# Doesn't work right now...\n",
    "# gdf = GeoDataFrame(\n",
    "#     combined,\n",
    "#     geometry=points_from_xy(\n",
    "#         df.longitude,\n",
    "#         df.latitude\n",
    "#     )\n",
    "# )"
   ]
  }
 ]
}