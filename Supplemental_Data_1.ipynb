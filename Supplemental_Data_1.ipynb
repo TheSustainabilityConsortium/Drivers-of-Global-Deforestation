{
 "cells": [
  {
   "cell_type": "raw",
   "metadata": {},
   "source": [
    "#---------------\n",
    "# Settings #\n",
    "#---------------"
   ]
  },
  {
   "cell_type": "raw",
   "metadata": {},
   "source": [
    "# set to true if you want the model to output all the decision trees\n",
    "rplots <- TRUE\n",
    "\n",
    "# set this to the directory you will run this script from\n",
    "setwd(\"E:/Forestry Model/Forrest Model/Update2019\")\n",
    "\n",
    "# set a repo to use for installing dependencies (repo list: https://cran.r-project.org/mirrors.html)\n",
    "repo = 'http://cran.us.r-project.org'"
   ]
  },
  {
   "cell_type": "code",
   "execution_count": null,
   "metadata": {},
   "outputs": [],
   "source": [
    "plot = TRUE\n",
    "# don't need to set a working directory.  Just use os.curdir.\n",
    "# don't need a repo"
   ]
  },
  {
   "cell_type": "raw",
   "metadata": {},
   "source": [
    "#---------------\n",
    "# Load packages #\n",
    "#---------------"
   ]
  },
  {
   "cell_type": "raw",
   "metadata": {},
   "source": [
    "# list dependencies\n",
    "package.list <- c(\"rgdal\", \"raster\", \"dplyr\", \"foreign\", \"tidyr\", \"readr\", \"stringr\",\n",
    "                  \"rpart\", \"rpart.plot\", \"rattle\", \"crayon\")\n",
    "# if packages in package.list aren't installed, put their name in new.packages\n",
    "new.packages <- package.list[!(package.list %in% installed.packages()[,\"Package\"])]\n",
    "# if new.packages has items in it, install them\n",
    "if(length(new.packages)) install.packages(new.packages, repos=repo)\n",
    "# Load the packages\n",
    "lapply(package.list, library, character.only = TRUE)"
   ]
  },
  {
   "cell_type": "code",
   "execution_count": 4,
   "metadata": {
    "execution": {
     "iopub.execute_input": "2020-11-04T07:58:02.429872Z",
     "iopub.status.busy": "2020-11-04T07:58:02.429872Z",
     "iopub.status.idle": "2020-11-04T07:58:02.433859Z",
     "shell.execute_reply": "2020-11-04T07:58:02.433859Z",
     "shell.execute_reply.started": "2020-11-04T07:58:02.429872Z"
    }
   },
   "outputs": [],
   "source": [
    "import pandas as pd\n",
    "import numpy as np\n",
    "import rasterio as rio\n",
    "import os, glob"
   ]
  },
  {
   "cell_type": "raw",
   "metadata": {},
   "source": [
    "#---------------\n",
    "# Define functions\n",
    "#---------------"
   ]
  },
  {
   "cell_type": "raw",
   "metadata": {},
   "source": [
    "pause <- function() {\n",
    "  if (interactive()){\n",
    "    line <- invisible(readline(prompt=\"Press [enter] to continue...\"))\n",
    "  }\n",
    "  else {\n",
    "    cat(\"Press <Enter> to continue...\")\n",
    "    invisible(readLines(file(\"stdin\"), 1))\n",
    "    close(file(\"stdin\"))\n",
    "  }\n",
    "}\n",
    "\n",
    "# writes 'words' to terminal in green letters and makes a new line\n",
    "say <- function(words){\n",
    "  cat(words,\"\\n\")\n",
    "}\n",
    "\n",
    "# writes 'words' to the terminal in red letters and makes a new line\n",
    "bad <- function(words){\n",
    "  cat(words,\"\\n\")\n",
    "}\n",
    "\n",
    "# df is a dataframe with minimum of GoodeR.ID and 1 data column, filename and column are char strings\n",
    "rastOut <- function(df, filename, column) {\n",
    "  data=1:6961896%>%\n",
    "    as.data.frame()%>%\n",
    "    rename(\"GoodeR.ID\"=\".\")%>%\n",
    "    left_join(df,by=\"GoodeR.ID\")%>%\n",
    "    select(GoodeR.ID,column)\n",
    "  names(data)=c(\"GoodeR.ID\",\"data\")\n",
    "  list=data%>%\n",
    "    select(data)\n",
    "  list=as.vector(t(list))\n",
    "  m=matrix(data=list,nrow=4008,ncol=1737,byrow=FALSE,dimnames=NULL)\n",
    "  m=(t(m))\n",
    "  r=raster(m)\n",
    "  xmin(r)=-20037506.5671\n",
    "  xmax(r)=20042493.4328\n",
    "  ymin(r)=-8683205.0209\n",
    "  ymax(r)=8686794.9791\n",
    "  crs(r) = \"+proj=igh +lon_0=0 +x_0=0 +y_0=0 +datum=WGS84 +ellps=WGS84 +units=m +\"\n",
    "  writeRaster(r,filename=filename,type=\"GTIFF\",overwrite=TRUE)\n",
    "}"
   ]
  },
  {
   "cell_type": "code",
   "execution_count": null,
   "metadata": {},
   "outputs": [],
   "source": [
    "# skipping these this for now."
   ]
  },
  {
   "cell_type": "raw",
   "metadata": {},
   "source": [
    "#---------------\n",
    "# Set up workspace #\n",
    "#---------------"
   ]
  },
  {
   "cell_type": "raw",
   "metadata": {},
   "source": [
    "sub_dir1 <- \"Temp_RModelOutputsTiffs\"\n",
    "sub_dir2 <- \"R_FinalOutputs\"\n",
    "temp_dir1 <- file.path(getwd(), sub_dir1)\n",
    "temp_dir2 <- file.path(getwd(), sub_dir2)\n",
    "\n",
    "# create output directories if they don't already exist\n",
    "if (!dir.exists(temp_dir1)){\n",
    "  say(\"\")\n",
    "  say(\"Creating temp directory...\")\n",
    "  say(\"\")\n",
    "  dir.create(temp_dir1)\n",
    "} else {\n",
    "  say(\"\")\n",
    "  say(\"Temp directory already exists, so won't be created.\")\n",
    "  say(\"\")\n",
    "}\n",
    "\n",
    "if (!dir.exists(temp_dir2)){\n",
    "  say(\"\")\n",
    "  say(\"Creating Final Outputs directory...\")\n",
    "  say(\"\")\n",
    "  dir.create(temp_dir2)\n",
    "} else {\n",
    "  say(\"\")\n",
    "  say(\"Final Outputs directory already exists, so won't be created.\")\n",
    "  say(\"\")\n",
    "}"
   ]
  },
  {
   "cell_type": "code",
   "execution_count": null,
   "metadata": {},
   "outputs": [],
   "source": [
    "#create folders 'Temp_RModelOutputsTiffs' and 'R_FinalOutputs' if they don't exist in current working directory.\n",
    "subdir1 = 'Temp_RModelOutputsTiffs'\n",
    "subdir2 = 'R_FinalOutputs'"
   ]
  },
  {
   "cell_type": "raw",
   "metadata": {},
   "source": [
    "#---------------------------\n",
    "# Load input datasets #\n",
    "#---------------------------"
   ]
  },
  {
   "cell_type": "raw",
   "metadata": {},
   "source": [
    "# Required:\n",
    "say(\"Reading Region Boundaries...\")\n",
    "GoodeR_Boundaries_Region=read_csv(\"GoodeR_Boundaries_Region.csv\", col_types = cols(GoodeR.ID = col_integer(), Region = col_integer()))\n",
    "say(\"Reading Training Points...\")\n",
    "TrainingPoints = read_csv(\"TrainingPointsFull.csv\", col_types = cols(GoodeR.ID = col_integer(), Training.Class = col_integer()))\n",
    "say(\"Reading Loss Mask...\")\n",
    "LossMaskFull= read_csv(\"LossMaskFull.csv\", col_types = cols(col_integer(), col_number()))"
   ]
  },
  {
   "cell_type": "code",
   "execution_count": null,
   "metadata": {},
   "outputs": [],
   "source": [
    "print('Reading Region Boundaries...')\n",
    "GoodeR_Boundaries_Region =  pd.read_csv(GoodeR_Boundaries_Region.csv) # with ID and region as int\n",
    "print('Reading Training Points...')\n",
    "TrainingPoints = pd.read_csv(TrainingPointsFull.csv) # with ID and class as int\n",
    "print('Reading Loss Mask...')\n",
    "LossMaskFull = pd.read_csv(LossMaskFull.csv)"
   ]
  },
  {
   "cell_type": "raw",
   "metadata": {},
   "source": [
    "GoodeR=1:6961896%>%\n",
    "  as.vector()%>%\n",
    "  as.data.frame()%>%\n",
    "  rename(\"GoodeR.ID\"=\".\")"
   ]
  },
  {
   "cell_type": "code",
   "execution_count": 45,
   "metadata": {
    "execution": {
     "iopub.execute_input": "2020-11-04T08:54:33.495993Z",
     "iopub.status.busy": "2020-11-04T08:54:33.494996Z",
     "iopub.status.idle": "2020-11-04T08:54:33.498986Z",
     "shell.execute_reply": "2020-11-04T08:54:33.498986Z",
     "shell.execute_reply.started": "2020-11-04T08:54:33.495993Z"
    }
   },
   "outputs": [],
   "source": [
    "GoodePy = range(1,6961897) # I see no reason for this to be a dataframe"
   ]
  },
  {
   "cell_type": "raw",
   "metadata": {},
   "source": [
    "# Optional:\n",
    "# Look for GoodeR_SecondaryData in workspace.  Import or notify user it is missing.\n",
    "if (TRUE %in% (list.files() == 'GoodeR_SecondaryData.csv')) {\n",
    "  say(\"Reading GoodeR_SecondaryData...\")\n",
    "  GoodeR_SecondaryData=read_csv(\"GoodeR_SecondaryData.csv\")\n",
    "  GoodeR_SecondaryData=GoodeR_SecondaryData%>%\n",
    "    filter(GoodeR_SecondaryData[41]>0)\n",
    "} else {\n",
    "  say(\"Secondary Data not found in workspace.  It will be calculated.\")\n",
    "}\n",
    "\n",
    "# Look for TrainingPoints_PrimaryData in workspace.  Import or notify user it is missing.\n",
    "if (TRUE %in% (list.files() == 'TrainingPoints_PrimaryData.csv')) {\n",
    "  say(\"Reading Training Points...\")\n",
    "  TrainingPoints_PrimaryData=read_csv(\"TrainingPoints_PrimaryData.csv\") \n",
    "} else {\n",
    "  say(\"Training Points Primary Data not found in workspace.  It will be calculated.\")\n",
    "}"
   ]
  },
  {
   "cell_type": "code",
   "execution_count": null,
   "metadata": {},
   "outputs": [],
   "source": [
    "#Optional code to read data from a previous run (saved as GoodeR_SecondaryData.csv and TrainingPoints_PrimaryData.csv).  Maybe add later."
   ]
  },
  {
   "cell_type": "raw",
   "metadata": {},
   "source": [
    "# Get list of primary data files\n",
    "PrimaryFileList=as.data.frame(list.files(path = \"./R_ModelInputs_PrimaryData\",\n",
    "                                  pattern = \".tif$\", all.files = FALSE,\n",
    "                                  full.names = FALSE, recursive = FALSE,\n",
    "                                  ignore.case = FALSE, include.dirs = FALSE, no.. = FALSE))\n",
    "names(PrimaryFileList)=c(\"FileName\")"
   ]
  },
  {
   "cell_type": "code",
   "execution_count": 32,
   "metadata": {
    "execution": {
     "iopub.execute_input": "2020-11-04T08:35:35.081680Z",
     "iopub.status.busy": "2020-11-04T08:35:35.081680Z",
     "iopub.status.idle": "2020-11-04T08:35:35.085670Z",
     "shell.execute_reply": "2020-11-04T08:35:35.085670Z",
     "shell.execute_reply.started": "2020-11-04T08:35:35.081680Z"
    }
   },
   "outputs": [],
   "source": [
    "# PrimaryFileList = list of file names of TIFs in /R_ModelInputs_PrimaryData/    ###~~~ Originally PrimaryFileList was a df, not a list.  We use a list here.\n",
    "PrimaryFileList = glob.glob('R_ModelInputs_PrimaryData/*.tif')"
   ]
  },
  {
   "cell_type": "raw",
   "metadata": {},
   "source": [
    "PrimaryVariables <- PrimaryFileList\n",
    "names(PrimaryVariables)=c(\"Name\")\n",
    "# Strip file prefixes and suffixes\n",
    "PrimaryVariables$Name <- PrimaryVariables$Name %>%\n",
    "  str_replace(\"Goode_\",\"\") %>%\n",
    "  str_replace(\".tif\",\"\")"
   ]
  },
  {
   "cell_type": "code",
   "execution_count": 33,
   "metadata": {
    "execution": {
     "iopub.execute_input": "2020-11-04T08:35:39.992963Z",
     "iopub.status.busy": "2020-11-04T08:35:39.991965Z",
     "iopub.status.idle": "2020-11-04T08:35:39.996952Z",
     "shell.execute_reply": "2020-11-04T08:35:39.996952Z",
     "shell.execute_reply.started": "2020-11-04T08:35:39.992963Z"
    }
   },
   "outputs": [],
   "source": [
    "# PrimaryVariables = list of file names with subfolder, 'Goode_' & '.tif' removed from the strings in PrimaryFileList\n",
    "PrimaryVariables = PrimaryFileList\n",
    "for idx, file in enumerate(PrimaryVariables):\n",
    "    PrimaryVariables[idx] = file.replace('R_ModelInputs_PrimaryData\\\\', '').replace('Goode_', '').replace('.tif', '')"
   ]
  },
  {
   "cell_type": "raw",
   "metadata": {},
   "source": [
    "# Get list of secondary data files\n",
    "SecondaryFileList=as.data.frame(list.files(path = \"./R_ModelInputs_SecondaryData\",\n",
    "                                           pattern = \".tif$\", all.files = FALSE,\n",
    "                                           full.names = FALSE, recursive = FALSE,\n",
    "                                           ignore.case = FALSE, include.dirs = FALSE,\n",
    "                                           no.. = FALSE))\n",
    "names(SecondaryFileList)=c(\"FileName\")\n",
    "SecondaryVariables <- SecondaryFileList\n",
    "names(SecondaryVariables) = c(\"Name\")\n",
    "# Strip file prefix and suffix\n",
    "SecondaryVariables$Name <- SecondaryVariables$Name %>%\n",
    "  str_replace(\"Goode_\",\"\") %>%\n",
    "  str_replace(\".tif\",\"\")"
   ]
  },
  {
   "cell_type": "code",
   "execution_count": 31,
   "metadata": {
    "collapsed": true,
    "execution": {
     "iopub.execute_input": "2020-11-04T08:26:42.620609Z",
     "iopub.status.busy": "2020-11-04T08:26:42.620609Z",
     "iopub.status.idle": "2020-11-04T08:26:42.627589Z",
     "shell.execute_reply": "2020-11-04T08:26:42.627589Z",
     "shell.execute_reply.started": "2020-11-04T08:26:42.620609Z"
    },
    "jupyter": {
     "outputs_hidden": true
    }
   },
   "outputs": [
    {
     "data": {
      "text/plain": [
       "['_release_R_ModelInputs_SecondaryData\\\\Fire_Brightness_10kMax.tif',\n",
       " '_release_R_ModelInputs_SecondaryData\\\\Fire_Brightness_10kMax1kMean.tif',\n",
       " '_release_R_ModelInputs_SecondaryData\\\\Fire_Brightness_10kMax1kSum.tif',\n",
       " '_release_R_ModelInputs_SecondaryData\\\\Fire_Brightness_10kMean.tif',\n",
       " '_release_R_ModelInputs_SecondaryData\\\\Fire_Brightness_10kMean1kMax.tif',\n",
       " '_release_R_ModelInputs_SecondaryData\\\\Fire_Brightness_10kMean1kSum.tif',\n",
       " '_release_R_ModelInputs_SecondaryData\\\\Fire_Brightness_10kSum.tif',\n",
       " '_release_R_ModelInputs_SecondaryData\\\\Fire_Count_10kMax.tif',\n",
       " '_release_R_ModelInputs_SecondaryData\\\\Fire_Count_10kMax1kMean.tif',\n",
       " '_release_R_ModelInputs_SecondaryData\\\\Fire_Count_10kMax1kSum.tif',\n",
       " '_release_R_ModelInputs_SecondaryData\\\\Fire_Count_10kMean.tif',\n",
       " '_release_R_ModelInputs_SecondaryData\\\\Fire_Count_10kMean1kMax.tif',\n",
       " '_release_R_ModelInputs_SecondaryData\\\\Fire_Count_10kMean1kSum.tif',\n",
       " '_release_R_ModelInputs_SecondaryData\\\\Fire_Count_10kSum.tif',\n",
       " '_release_R_ModelInputs_SecondaryData\\\\Fire_FRP_10kMax.tif',\n",
       " '_release_R_ModelInputs_SecondaryData\\\\Fire_FRP_10kMax1kMean.tif',\n",
       " '_release_R_ModelInputs_SecondaryData\\\\Fire_FRP_10kMax1kSum.tif',\n",
       " '_release_R_ModelInputs_SecondaryData\\\\Fire_FRP_10kMean.tif',\n",
       " '_release_R_ModelInputs_SecondaryData\\\\Fire_FRP_10kMean1kMax.tif',\n",
       " '_release_R_ModelInputs_SecondaryData\\\\Fire_FRP_10kMean1kSum.tif',\n",
       " '_release_R_ModelInputs_SecondaryData\\\\Fire_FRP_10kSum.tif',\n",
       " '_release_R_ModelInputs_SecondaryData\\\\Goode_FireLoss_10kMax.tif',\n",
       " '_release_R_ModelInputs_SecondaryData\\\\Goode_FireLoss_10kMax1kMean.tif',\n",
       " '_release_R_ModelInputs_SecondaryData\\\\Goode_FireLoss_10kMax1kSum.tif',\n",
       " '_release_R_ModelInputs_SecondaryData\\\\Goode_FireLoss_10kMean.tif',\n",
       " '_release_R_ModelInputs_SecondaryData\\\\Goode_FireLoss_10kMean1kMax.tif',\n",
       " '_release_R_ModelInputs_SecondaryData\\\\Goode_FireLoss_10kMean1kSum.tif',\n",
       " '_release_R_ModelInputs_SecondaryData\\\\Goode_FireLoss_10kSum.tif',\n",
       " '_release_R_ModelInputs_SecondaryData\\\\Goode_Gain_10kMax.tif',\n",
       " '_release_R_ModelInputs_SecondaryData\\\\Goode_Gain_10kMax1kMean.tif',\n",
       " '_release_R_ModelInputs_SecondaryData\\\\Goode_Gain_10kMax1kSum.tif',\n",
       " '_release_R_ModelInputs_SecondaryData\\\\Goode_Gain_10kMean.tif',\n",
       " '_release_R_ModelInputs_SecondaryData\\\\Goode_Gain_10kMean1kMax.tif',\n",
       " '_release_R_ModelInputs_SecondaryData\\\\Goode_Gain_10kMean1kSum.tif',\n",
       " '_release_R_ModelInputs_SecondaryData\\\\Goode_Gain_10kSum.tif',\n",
       " '_release_R_ModelInputs_SecondaryData\\\\Goode_LandCover_Deciduous_BroadLeaf_3.tif',\n",
       " '_release_R_ModelInputs_SecondaryData\\\\Goode_LandCover_Evergreen_BroadLeaf_2.tif',\n",
       " '_release_R_ModelInputs_SecondaryData\\\\Goode_LandCover_Mixed_Other_4.tif',\n",
       " '_release_R_ModelInputs_SecondaryData\\\\Goode_LandCover_Needleleaf_1.tif',\n",
       " '_release_R_ModelInputs_SecondaryData\\\\Goode_LossYearDiff_10kMax.tif',\n",
       " '_release_R_ModelInputs_SecondaryData\\\\Goode_LossYearDiff_10kMax1kMean.tif',\n",
       " '_release_R_ModelInputs_SecondaryData\\\\Goode_LossYearDiff_10kMax1kSum.tif',\n",
       " '_release_R_ModelInputs_SecondaryData\\\\Goode_LossYearDiff_10kMean.tif',\n",
       " '_release_R_ModelInputs_SecondaryData\\\\Goode_LossYearDiff_10kMean1kMax.tif',\n",
       " '_release_R_ModelInputs_SecondaryData\\\\Goode_LossYearDiff_10kMean1kSum.tif',\n",
       " '_release_R_ModelInputs_SecondaryData\\\\Goode_LossYearDiff_10kSum.tif',\n",
       " '_release_R_ModelInputs_SecondaryData\\\\Goode_LossYearDiff_1k_10kMax.tif',\n",
       " '_release_R_ModelInputs_SecondaryData\\\\Goode_LossYearDiff_1k_10kMean.tif',\n",
       " '_release_R_ModelInputs_SecondaryData\\\\Goode_LossYearDiff_1k_10kSum.tif',\n",
       " '_release_R_ModelInputs_SecondaryData\\\\Goode_Loss_10kMax.tif',\n",
       " '_release_R_ModelInputs_SecondaryData\\\\Goode_Loss_10kMax1kMean.tif',\n",
       " '_release_R_ModelInputs_SecondaryData\\\\Goode_Loss_10kMax1kSum.tif',\n",
       " '_release_R_ModelInputs_SecondaryData\\\\Goode_Loss_10kMean.tif',\n",
       " '_release_R_ModelInputs_SecondaryData\\\\Goode_Loss_10kMean1kMax.tif',\n",
       " '_release_R_ModelInputs_SecondaryData\\\\Goode_Loss_10kMean1kSum.tif',\n",
       " '_release_R_ModelInputs_SecondaryData\\\\Goode_Loss_10kSum.tif',\n",
       " '_release_R_ModelInputs_SecondaryData\\\\Goode_NetMean.tif',\n",
       " '_release_R_ModelInputs_SecondaryData\\\\Goode_Population2000_10kMax.tif',\n",
       " '_release_R_ModelInputs_SecondaryData\\\\Goode_Population2000_10kMax1kMean.tif',\n",
       " '_release_R_ModelInputs_SecondaryData\\\\Goode_Population2000_10kMax1kSum.tif',\n",
       " '_release_R_ModelInputs_SecondaryData\\\\Goode_Population2000_10kMean.tif',\n",
       " '_release_R_ModelInputs_SecondaryData\\\\Goode_Population2000_10kMean1kMax.tif',\n",
       " '_release_R_ModelInputs_SecondaryData\\\\Goode_Population2000_10kMean1kSum.tif',\n",
       " '_release_R_ModelInputs_SecondaryData\\\\Goode_Population2000_10kSum.tif',\n",
       " '_release_R_ModelInputs_SecondaryData\\\\Goode_Population2015_10kMax.tif',\n",
       " '_release_R_ModelInputs_SecondaryData\\\\Goode_Population2015_10kMax1kMean.tif',\n",
       " '_release_R_ModelInputs_SecondaryData\\\\Goode_Population2015_10kMax1kSum.tif',\n",
       " '_release_R_ModelInputs_SecondaryData\\\\Goode_Population2015_10kMean.tif',\n",
       " '_release_R_ModelInputs_SecondaryData\\\\Goode_Population2015_10kMean1kMax.tif',\n",
       " '_release_R_ModelInputs_SecondaryData\\\\Goode_Population2015_10kMean1kSum.tif',\n",
       " '_release_R_ModelInputs_SecondaryData\\\\Goode_Population2015_10kSum.tif',\n",
       " '_release_R_ModelInputs_SecondaryData\\\\Goode_PopulationDifference20002015_10kMax.tif',\n",
       " '_release_R_ModelInputs_SecondaryData\\\\Goode_PopulationDifference20002015_10kMax1kMean.tif',\n",
       " '_release_R_ModelInputs_SecondaryData\\\\Goode_PopulationDifference20002015_10kMax1kSum.tif',\n",
       " '_release_R_ModelInputs_SecondaryData\\\\Goode_PopulationDifference20002015_10kMean.tif',\n",
       " '_release_R_ModelInputs_SecondaryData\\\\Goode_PopulationDifference20002015_10kMean1kMax.tif',\n",
       " '_release_R_ModelInputs_SecondaryData\\\\Goode_PopulationDifference20002015_10kMean1kSum.tif',\n",
       " '_release_R_ModelInputs_SecondaryData\\\\Goode_PopulationDifference20002015_10kSum.tif',\n",
       " '_release_R_ModelInputs_SecondaryData\\\\Tree_cover2000_10kMax.tif',\n",
       " '_release_R_ModelInputs_SecondaryData\\\\Tree_cover2000_10kMax1kMean.tif',\n",
       " '_release_R_ModelInputs_SecondaryData\\\\Tree_cover2000_10kMax1kSum.tif',\n",
       " '_release_R_ModelInputs_SecondaryData\\\\Tree_cover2000_10kMean.tif',\n",
       " '_release_R_ModelInputs_SecondaryData\\\\Tree_cover2000_10kMean1kMax.tif',\n",
       " '_release_R_ModelInputs_SecondaryData\\\\Tree_cover2000_10kMean1kSum.tif',\n",
       " '_release_R_ModelInputs_SecondaryData\\\\Tree_cover2000_10kSum.tif']"
      ]
     },
     "execution_count": 31,
     "metadata": {},
     "output_type": "execute_result"
    }
   ],
   "source": [
    "# I'm pretty sure these are identical to PrimaryVariables and PrimaryFileList, but I'll soon find out."
   ]
  },
  {
   "cell_type": "raw",
   "metadata": {},
   "source": [
    "#---------------------------\n",
    "# Create Training points with data #\n",
    "#---------------------------"
   ]
  },
  {
   "cell_type": "raw",
   "metadata": {},
   "source": [
    "say(\"Checking inputs for TrainingPoints_PrimaryData...\")"
   ]
  },
  {
   "cell_type": "code",
   "execution_count": null,
   "metadata": {},
   "outputs": [],
   "source": [
    "print('Checking inputs for TrainingPoints_PrimaryData...')"
   ]
  },
  {
   "cell_type": "raw",
   "metadata": {},
   "source": [
    "for(NAME in PrimaryFileList$FileName){\n",
    "  data=raster(paste(\"./R_ModelInputs_PrimaryData/\",NAME,sep=\"\"))\n",
    "  \n",
    "  if(nrow(data)!=1737){\n",
    "    bad(c(NAME, \"has a problem\"))\n",
    "  } else{\n",
    "    if (ncol(data)!=4008) {\n",
    "      bad(c(NAME, \"has a problem\"))\n",
    "    }else{\n",
    "      say(c(NAME, \"looks good\"))\n",
    "    }\n",
    "  }\n",
    "}"
   ]
  },
  {
   "cell_type": "code",
   "execution_count": null,
   "metadata": {},
   "outputs": [],
   "source": [
    "# iterate across PrimaryFileList, ensuring correct input resolution of 1737x4008 on each tiff\n",
    "for name in PrimaryFileList:\n",
    "    data = rio.open(name)\n",
    "    if data.width != 4008:\n",
    "        print(f\"{data.name} has {data.width} columns, not 4008!\")\n",
    "        errors = TRUE\n",
    "    elif data.height != 1737:\n",
    "        print(f\"{data.name} has {data.height} rows, now 1737!\")\n",
    "        errors = TRUE\n",
    "## ideally, check other metadata, like crs"
   ]
  },
  {
   "cell_type": "raw",
   "metadata": {},
   "source": [
    "say(\"If all inputs look good, press Enter, if any failed, press Ctrl+C then Enter to quit and fix them.\")\n",
    "pause()"
   ]
  },
  {
   "cell_type": "code",
   "execution_count": null,
   "metadata": {},
   "outputs": [],
   "source": [
    "# Not necessary in a notebook.  Fix the problem and start over if there are errors.  Keep going if there aren't."
   ]
  },
  {
   "cell_type": "markdown",
   "metadata": {},
   "source": [
    "say('Calculating Training Points...')"
   ]
  },
  {
   "cell_type": "raw",
   "metadata": {},
   "source": [
    "TrainingIDs=as.data.frame(c(1:nrow(TrainingPoints)))\n",
    "names(TrainingIDs)=c(\"TrainingID\")\n",
    "# Make columns for each driver (1 is that class, 0 is not that class)\n",
    "TrainingPoints=TrainingPoints%>%\n",
    "  bind_cols(TrainingIDs)%>%\n",
    "  mutate(Deforestation=ifelse(Training.Class==1,1,0))%>%\n",
    "  mutate(Shifting.Agriculture=ifelse(Training.Class==2,1,0))%>%\n",
    "  mutate(TreeFarm.ForestryOther=ifelse(Training.Class==3,1,0))%>%\n",
    "  mutate(Wildfire=ifelse(Training.Class==4,1,0))%>%\n",
    "  mutate(Urban=ifelse(Training.Class==5,1,0))"
   ]
  },
  {
   "cell_type": "code",
   "execution_count": null,
   "metadata": {},
   "outputs": [],
   "source": [
    "# Convert class values from into one-hot table.\n",
    "training_one_hot = pd.get_dummies(TrainingPoints[['Training.Class']], prefix='Class')\n",
    "TrainingPoints = pd.merge(TrainingPoints, training_one_hot, right_index=TRUE, left_index=TRUE)"
   ]
  },
  {
   "cell_type": "raw",
   "metadata": {},
   "source": [
    "TrainingPoints_PrimaryData=TrainingPoints%>% # this isn't filtering out class 6 (flooding?)\n",
    "  filter(Training.Class!=7)"
   ]
  },
  {
   "cell_type": "code",
   "execution_count": null,
   "metadata": {},
   "outputs": [],
   "source": [
    "# Create TrainingPoints_PrimaryData by filter out classes 6 & 7 from TrainingPoints.  (Philip's code only filters 7 initially, but I think it ends up not mattering later).\n",
    "TrainingPoints_PrimaryData = TrainingPoints.iloc[TrainingPoints['Training.Class'] < 6]"
   ]
  },
  {
   "cell_type": "raw",
   "metadata": {},
   "source": [
    "for(NAME in PrimaryFileList$FileName){\n",
    "  say(c(\"Reading\", NAME))\n",
    "  data=raster(paste(\"./R_ModelInputs_PrimaryData/\",NAME,sep=\"\"))\n",
    "  NAME2=NAME%>%\n",
    "    str_replace(\"^Goode_\", \"\")%>%\n",
    "    str_replace(\".tif$\", \"\")\n",
    "  ## Select GRID data raster ##\n",
    "  data=data%>%\n",
    "    as.vector()%>%\n",
    "    as.data.frame()\n",
    "  names(data)=c(paste(NAME2))\n",
    "  ## create R.ID list ##\n",
    "  GoodeRList=1:6961896%>%\n",
    "    as.vector()%>%\n",
    "    as.data.frame()%>%\n",
    "    rename(\"GoodeR.ID\"=\".\")%>%\n",
    "    bind_cols(data)\n",
    "  TrainingPoints_PrimaryData=TrainingPoints_PrimaryData%>%\n",
    "    left_join(GoodeRList,by=\"GoodeR.ID\")\n",
    "}\n",
    "TrainingPoints_PrimaryData[is.na(TrainingPoints_PrimaryData)]=0\n",
    "TrainingPoints_PrimaryData=TrainingPoints_PrimaryData%>%\n",
    "  distinct()"
   ]
  },
  {
   "cell_type": "code",
   "execution_count": null,
   "metadata": {},
   "outputs": [],
   "source": [
    "for name in PrimaryFileList: #Original specifies the column 'Filename' because it creates PrimaryFileList as a dataframe\n",
    "    print('Reading ', name)\n",
    "    data = rio.open(name)\n",
    "    name2 = data.name.replace('Goode_', '')\n",
    "    df = pd.DataFrame({name2: data}, index = GoodePy)\n",
    "    TrainingPoints_PrimaryData = pd.merge(TrainingPoints_PrimaryData, df, how='left', on=name2)\n",
    "\n",
    "TrainingPoints_PrimaryData.fillna(0).drop_duplicates()"
   ]
  },
  {
   "cell_type": "raw",
   "metadata": {},
   "source": [
    "#---------------\n",
    "# Create full list of Secondary Data #\n",
    "#---------------"
   ]
  },
  {
   "cell_type": "raw",
   "metadata": {},
   "source": [
    "## Mask by loss extent to make smaller ##\n",
    "\n",
    "say(\"Calculating GoodeR_SecondaryData...\")"
   ]
  },
  {
   "cell_type": "raw",
   "metadata": {},
   "source": [
    "GoodeR_SecondaryData=LossMaskFull%>%\n",
    "  filter(LossMaskFull[2] > 0)%>%\n",
    "  select(GoodeR.ID)\n",
    "tppd=TrainingPoints_PrimaryData%>%\n",
    "  select(GoodeR.ID,TrainingID)\n",
    "GoodeR_SecondaryData=GoodeR_SecondaryData%>%\n",
    "  left_join(tppd,by=\"GoodeR.ID\")\n",
    "GoodeR_SecondaryData$TrainingID[is.na(GoodeR_SecondaryData$TrainingID)]=0"
   ]
  },
  {
   "cell_type": "raw",
   "metadata": {},
   "source": [
    "for(NAME in SecondaryFileList$FileName){\n",
    "  \n",
    "  data=raster(paste(\"./R_ModelInputs_SecondaryData/\",NAME,sep=\"\"))\n",
    "  \n",
    "  say(c(\"Reading \", NAME))\n",
    "  \n",
    "  NAME2=NAME%>%\n",
    "    str_replace(\"^Goode_\", \"\")%>%\n",
    "    str_replace(\".tif$\", \"\")\n",
    "  \n",
    "  ## Select GRID data raster ##\n",
    "  data=data%>%\n",
    "    as.vector()%>%\n",
    "    as.data.frame()\n",
    "  names(data)=c(paste(NAME2))\n",
    "  ## create R.ID list ##\n",
    "  GoodeRList=GoodeR%>%\n",
    "    bind_cols(data)\n",
    "  GoodeR_SecondaryData=GoodeR_SecondaryData%>%\n",
    "    left_join(GoodeRList,by=\"GoodeR.ID\")\n",
    "}"
   ]
  },
  {
   "cell_type": "raw",
   "metadata": {},
   "source": [
    "GoodeR_SecondaryData[is.na(GoodeR_SecondaryData)]=0\n",
    "GoodeR_SecondaryData=GoodeR_SecondaryData%>%\n",
    "  left_join(GoodeR_Boundaries_Region,by=\"GoodeR.ID\")\n",
    "GoodeR_SecondaryData=GoodeR_SecondaryData%>%\n",
    "   filter(!is.na(Region))"
   ]
  },
  {
   "cell_type": "raw",
   "metadata": {},
   "source": [
    "#----"
   ]
  },
  {
   "cell_type": "raw",
   "metadata": {},
   "source": [
    "#-----------------------\n",
    "## Create Rpart Fits ##\n",
    "#-----------------------"
   ]
  },
  {
   "cell_type": "raw",
   "metadata": {},
   "source": [
    "regions <- c(1, 2, 3, 4, 5, 6, 7)\n",
    "driverNames <- c(\"Deforestation\", \"Shifting.Agriculture\", \"TreeFarm.ForestryOther\", \"Wildfire\", \"Urban\")\n",
    "drivers <- c(1, 2, 3, 4, 5)\n",
    "ModelOutput <- list()\n",
    "ModelOutput.Regional <- list()\n",
    "if (rplots){pdf(paste(sub_dir2,'DecisionTrees.pdf',sep='/'))}\n",
    "importance <- data.frame(matrix(vector(), ncol=length(PrimaryVariables$Name)))\n",
    "names(importance) <- PrimaryVariables$Name\n",
    "#regionalOutputs <- list()"
   ]
  },
  {
   "cell_type": "code",
   "execution_count": 51,
   "metadata": {
    "execution": {
     "iopub.execute_input": "2020-11-04T09:36:44.042841Z",
     "iopub.status.busy": "2020-11-04T09:36:44.042841Z",
     "iopub.status.idle": "2020-11-04T09:36:44.045833Z",
     "shell.execute_reply": "2020-11-04T09:36:44.045833Z",
     "shell.execute_reply.started": "2020-11-04T09:36:44.042841Z"
    }
   },
   "outputs": [],
   "source": [
    "regions = range(1,8)\n",
    "driverNames = ['Deforestation', 'Shifting.Agriculture', 'TreeFarm.ForestryOther', 'Wildfire', 'Urban']\n",
    "drivers = range(1,6)\n",
    "ModelOutput = []\n",
    "ModelOutput.Regional = []\n",
    "if plots:\n",
    "   #make plots\n",
    "# something with importance???"
   ]
  },
  {
   "cell_type": "markdown",
   "metadata": {},
   "source": [
    "## This is where the magic happens!"
   ]
  },
  {
   "cell_type": "raw",
   "metadata": {},
   "source": [
    "for (region in regions){\n",
    "  say(\"\")\n",
    "  say(\"********************\")\n",
    "  say(c(\"* Setting up Region\",region))\n",
    "  say(\"********************\")\n",
    "  \n",
    "  # extract only training points within the current region from the full set\n",
    "  TrainingPoints_Regional <- TrainingPoints_PrimaryData%>%\n",
    "    left_join(GoodeR_Boundaries_Region, by=\"GoodeR.ID\")%>%\n",
    "    mutate(Region=replace(Region,,as.numeric(Region)))%>%\n",
    "    filter(Region==c(region))\n",
    "\n",
    "  for (driver in drivers){\n",
    "    say(c(\"Calculating\",driverNames[driver],\"Tree...\"))\n",
    "    \n",
    "    # select the column for the current driver, then all variable columns\n",
    "    InputData <- select(TrainingPoints_Regional,driverNames[driver],PrimaryVariables$Name[1]:PrimaryVariables$Name[length(PrimaryVariables$Name)])\n",
    "    \n",
    "    # give rpart a formula where the current driver is defined as the sum of all variables in Variables$Name, pass InputData and define method\n",
    "    fit <- rpart(as.formula(paste(paste(driverNames[driver],\"~\",sep=\"\"),paste(PrimaryVariables$Name, collapse=\"+\"))),data=InputData,method = \"anova\")\n",
    "    fit=prune(fit,cp=.02)\n",
    "    \n",
    "    # plot the tree and give it a title of 'Region: Driver'\n",
    "    if (rplots){\n",
    "      name <- paste(\"Region\", region, \":\", driverNames[driver], sep = \" \")\n",
    "      fancyRpartPlot(fit, main = name)\n",
    "      importance <- bind_rows(importance, fit$variable.importance)\n",
    "    }\n",
    "    #cat(name)\n",
    "    \n",
    "    # generate name for model output field\n",
    "    outName <- paste(\"Output\", driverNames[driver], sep = \"_\")\n",
    "    \n",
    "    # calculate probability of current driver for whole dataset\n",
    "    # Give tree full dataset and record probability for each (to be used later in regional voting)\n",
    "    ModelOutput[[driver]] = GoodeR_SecondaryData%>%\n",
    "      select(GoodeR.ID)%>%\n",
    "      left_join(GoodeR_Boundaries_Region,by=\"GoodeR.ID\")%>%\n",
    "      # the \"!! outName :=\" uses the variable value as the new column name, rather than the literal string 'outName'\n",
    "      mutate(!!outName := predict(fit, type=\"vector\", newdata=GoodeR_SecondaryData))%>%\n",
    "      filter(Region==paste(region))%>%\n",
    "      select(-Region)\n",
    "  }\n",
    "  # Collect class probabilities from each tree in ModelOutput.Full\n",
    "  ModelOutput.Regional[[region]] <- as.data.frame(Reduce(function(x, y) merge(x, y, by=\"GoodeR.ID\", all.x=TRUE), ModelOutput))\n",
    "  \n",
    "  say(\"********************\")\n",
    "  say(c(\"* Region\",region,\"Complete!\"))\n",
    "  say(\"********************\")\n",
    "}"
   ]
  },
  {
   "cell_type": "raw",
   "metadata": {},
   "source": [
    "# Close and write pdf to file\n",
    "if (rplots){dev.off()}"
   ]
  },
  {
   "cell_type": "raw",
   "metadata": {},
   "source": [
    "# Combine all regions into the final table\n",
    "ModelOutput.All <- Reduce(function(x, y) bind_rows(x, y), ModelOutput.Regional)%>%\n",
    "  left_join(GoodeR_Boundaries_Region, by='GoodeR.ID')"
   ]
  },
  {
   "cell_type": "raw",
   "metadata": {},
   "source": [
    "# combine scores for variable importance and write to file\n",
    "Total.Importance <- summarise_each(importance, list(~ sum(., na.rm = TRUE)))\n",
    "say(\"Writing variable importance\")\n",
    "write_csv(Total.Importance, paste(sub_dir2, \"Variable.Importance.csv\", sep = '/'))"
   ]
  },
  {
   "cell_type": "raw",
   "metadata": {},
   "source": [
    "#---------------\n",
    "#Create initial classification using model output\n",
    "#---------------"
   ]
  },
  {
   "cell_type": "raw",
   "metadata": {},
   "source": [
    "#ModelOutput.Final=read_csv(\"ModelOutput.Final_19.csv\")\n",
    "say(\"Trees are voting on each pixel...\")"
   ]
  },
  {
   "cell_type": "raw",
   "metadata": {},
   "source": [
    "# make column names machine readable\n",
    "temp=ModelOutput.All%>%\n",
    "  select(Output_Deforestation,Output_Shifting.Agriculture,Output_TreeFarm.ForestryOther,Output_Wildfire,Output_Urban)%>%\n",
    "  rename(\"out1\" = \"Output_Deforestation\", \"out2\" = \"Output_Shifting.Agriculture\", \"out3\" = \"Output_TreeFarm.ForestryOther\",\n",
    "         \"out4\" = \"Output_Wildfire\", \"out5\" = \"Output_Urban\")"
   ]
  },
  {
   "cell_type": "raw",
   "metadata": {},
   "source": [
    "# get max value for cell\n",
    "test=as.data.frame(colnames(temp)[apply(temp,1,which.max)])\n",
    "names(test)=c(\"MaxClass\")"
   ]
  },
  {
   "cell_type": "raw",
   "metadata": {},
   "source": [
    "# reattach assigned drivers to full output list\n",
    "temp=temp%>%\n",
    "  bind_cols(test)"
   ]
  },
  {
   "cell_type": "raw",
   "metadata": {},
   "source": [
    "# Add column for the confidence of the top driver\n",
    "MaxClass=temp%>%\n",
    "  rowwise()%>%\n",
    "  mutate(maxValue=max(out1, out2, out3, out4, out5))"
   ]
  },
  {
   "cell_type": "raw",
   "metadata": {},
   "source": [
    "# drop 'out' from $MaxClass column, leaving just numbers\n",
    "MaxClass$MaxClass <- gsub(\"out\", \"\", MaxClass$MaxClass)"
   ]
  },
  {
   "cell_type": "raw",
   "metadata": {},
   "source": [
    "# eliminate any cells whose top score was <50% by setting their value to 0\n",
    "MaxClass <- within(MaxClass, MaxClass[maxValue < 0.5] <- 0)%>%\n",
    "  rename(\"Class\" = \"MaxClass\")"
   ]
  },
  {
   "cell_type": "raw",
   "metadata": {},
   "source": [
    "# convert columns to numeric type\n",
    "MaxClass <- transform(MaxClass, Class = as.numeric(Class))"
   ]
  },
  {
   "cell_type": "raw",
   "metadata": {},
   "source": [
    "ModelOutput.All <- ModelOutput.All %>%\n",
    "  bind_cols(MaxClass) %>%\n",
    "  select(-out1, -out2, -out3, -out4, -out5)"
   ]
  },
  {
   "cell_type": "raw",
   "metadata": {},
   "source": [
    "by_region <- ModelOutput.All %>% group_by(Region)"
   ]
  },
  {
   "cell_type": "raw",
   "metadata": {},
   "source": [
    "write_csv(ModelOutput.All, paste(sub_dir2,\"ModelOutput.All.csv\",sep='/'))"
   ]
  },
  {
   "cell_type": "raw",
   "metadata": {},
   "source": [
    "# MaxClass=MaxClass%>%\n",
    "#   mutate(Class=ifelse(maxValue<.5,0,\n",
    "#                       ifelse(MaxClass==\"Output_Deforestation\",1,\n",
    "#                              ifelse(MaxClass==\"Output_Shifting.Agriculture\",2,\n",
    "#                                     ifelse(MaxClass==\"Output_TreeFarm.ForestryOther\",3,\n",
    "#                                            ifelse(MaxClass==\"Output_Wildfire\",4,\n",
    "#                                                   ifelse(MaxClass==\"Output_Urban\",5,0)\n",
    "#                                            ))))))\n",
    "MaxClass_Final_19_50uncertain=ModelOutput.All%>%\n",
    "  select(GoodeR.ID)%>%\n",
    "  bind_cols(MaxClass)%>%\n",
    "  left_join(LossMaskFull,by = \"GoodeR.ID\")%>%\n",
    "  mutate(Class2=ifelse(as.numeric(Loss)<.005,0,Class))%>%\n",
    "  select(-Class)%>%\n",
    "  mutate(Class=Class2)%>%\n",
    "  select(-Class2)%>%\n",
    "  select(-Loss)"
   ]
  },
  {
   "cell_type": "raw",
   "metadata": {},
   "source": [
    "# Disabling  this because it just creates the possibility of contamination from old data.  If the model is \n",
    "# being run again, it's worth recalculating the secondary data, because presumably, something has changed.\n",
    "#\n",
    "# say(\"Outputting initial class selections to MaxClass_Final_19_50uncertain.csv\")\n",
    "# \n",
    "# write_csv(MaxClass_Final_19_50uncertain,\"MaxClass_Final_19_50uncertain.csv\")\n",
    "#----"
   ]
  },
  {
   "cell_type": "raw",
   "metadata": {},
   "source": [
    "#--------------------------------------------------------\n",
    "# Initial raster \n",
    "#--------------------------------------------------------"
   ]
  },
  {
   "cell_type": "raw",
   "metadata": {},
   "source": [
    "MaxClass_Final=MaxClass_Final_19_50uncertain%>%\n",
    "  select(GoodeR.ID,Class)"
   ]
  },
  {
   "cell_type": "raw",
   "metadata": {},
   "source": [
    "say(\"Writing initial class selections to Goode_FinalClassification_19_50uncertain.tiff\")"
   ]
  },
  {
   "cell_type": "raw",
   "metadata": {},
   "source": [
    "rastOut(MaxClass_Final, \"Goode_FinalClassification_19_50uncertain.tiff\", \"Class\")"
   ]
  },
  {
   "cell_type": "raw",
   "metadata": {},
   "source": [
    "#---------------\n",
    "# prepare for expand in arcMap\n",
    "#---------------"
   ]
  },
  {
   "cell_type": "raw",
   "metadata": {},
   "source": [
    "MaxClass_Final <- MaxClass_Final%>%\n",
    "  filter(Class > 0)"
   ]
  },
  {
   "cell_type": "raw",
   "metadata": {},
   "source": [
    "rastOut(MaxClass_Final, \"Goode_FinalClassification_19_Excludeduncertain.tif\", \"Class\")"
   ]
  },
  {
   "cell_type": "raw",
   "metadata": {},
   "source": [
    "# Expand in ArcGIS\n",
    "#---------------\n",
    "say(\"\")\n",
    "say(\"**************************************************************************\")\n",
    "say(\"***************************** MODEL PAUSED *******************************\")\n",
    "say(\"Run 'Expand Final Classification' model, found in 'Forestry Models 2.tbx'.\")\n",
    "say(\"This uses the Expand tool to classify uncertain pixels (model certainty < 50%) using nearest neighbor technique\")\n",
    "say(\"When finished with the Expand model, the output is the final classification.\")\n",
    "say(\"You may press Enter to continue calculating stats, or Ctrl+C, then Enter to quit.\")\n",
    "pause()"
   ]
  },
  {
   "cell_type": "raw",
   "metadata": {},
   "source": [
    "#-------------\n",
    "# Calculate % of loss classified (non-mixed/uncertain) #\n",
    "#-------------"
   ]
  },
  {
   "cell_type": "raw",
   "metadata": {},
   "source": [
    "temp=GoodeR_SecondaryData%>%\n",
    "  select(!!c('GoodeR.ID', 'Loss_10kSum'))\n",
    "Total=sum(temp[2])"
   ]
  },
  {
   "cell_type": "raw",
   "metadata": {},
   "source": [
    "LossClassified=temp%>%\n",
    "  left_join(MaxClass_Final_19_50uncertain,by=\"GoodeR.ID\")%>%\n",
    "  filter(Class!=0)\n",
    "LossClassified=sum(LossClassified[2])/Total"
   ]
  },
  {
   "cell_type": "raw",
   "metadata": {},
   "source": [
    "LossUnClassified=temp%>%\n",
    "  left_join(MaxClass_Final_19_50uncertain,by=\"GoodeR.ID\")%>%\n",
    "  filter(Class==0)\n",
    "LossUnClassified=sum(LossUnClassified[2])/Total"
   ]
  },
  {
   "cell_type": "raw",
   "metadata": {},
   "source": [
    "say(\"\")\n",
    "say(cat(\"Loss classified:\", LossClassified, \"%\"))\n",
    "say(cat(\"Loss unclassified:\", LossUnClassified, \"%\"))\n",
    "say(\"\")"
   ]
  },
  {
   "cell_type": "raw",
   "metadata": {},
   "source": [
    "#-----"
   ]
  },
  {
   "cell_type": "raw",
   "metadata": {},
   "source": [
    "# This step is already done when creating the initial classification raster.  Not necessary, remove after testing.\n",
    "#-----------------------------------------\n",
    "# Re-import Expanded classes (no Uncertain class) mask out areas with loss less than 0.5% loss\n",
    "#-----------------------------------------"
   ]
  },
  {
   "cell_type": "raw",
   "metadata": {},
   "source": [
    "data=raster(\"R_FinalOutputs/Goode_FinalClassification_19_50uncertain_expanded_05pcnt.tif\")\n",
    "data=as.vector(data)%>%\n",
    "  as.data.frame()\n",
    "names(data)=c(\"Class\")"
   ]
  },
  {
   "cell_type": "raw",
   "metadata": {},
   "source": [
    "# create R.ID list ##\n",
    "RasterList=1:6961896%>%\n",
    "  as.vector()%>%\n",
    "  as.data.frame()\n",
    "names(RasterList)=c(\"GoodeR.ID\")\n",
    "temp=RasterList%>%\n",
    "  bind_cols(data)%>%\n",
    "  inner_join(LossMaskFull,by=\"GoodeR.ID\")%>%\n",
    "  mutate(Class2=ifelse(as.numeric(Loss_10kMean_20002016)>0&as.numeric(Loss_10kMean_20002016)<.005,0,Class))%>%\n",
    "  mutate(Class.Final=round(Class2,0))%>%\n",
    "  select(-Class,Class2,-Loss_10kMean_20002016)"
   ]
  },
  {
   "cell_type": "raw",
   "metadata": {},
   "source": [
    "Goode_FinalClassification19_Expand_05pcnt=temp\n",
    "writeRaster(Goode_FinalClassification19_Expand_05pcnt, filename = \"R_FinalOutputs/TestMask.tif\", type=\"GTIFF\", overwrite = TRUE)\n",
    "\n",
    "write_csv(Goode_FinalClassification19_Expand_05pcnt,\"FinalClass_19_05pcnt.csv\")\n",
    "#-----"
   ]
  }
 ],
 "metadata": {
  "kernelspec": {
   "display_name": "Python 3",
   "language": "python",
   "name": "python3"
  },
  "language_info": {
   "codemirror_mode": {
    "name": "ipython",
    "version": 3
   },
   "file_extension": ".py",
   "mimetype": "text/x-python",
   "name": "python",
   "nbconvert_exporter": "python",
   "pygments_lexer": "ipython3",
   "version": "3.7.3"
  }
 },
 "nbformat": 4,
 "nbformat_minor": 4
}
